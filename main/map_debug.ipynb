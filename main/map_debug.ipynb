{
 "cells": [
  {
   "cell_type": "code",
   "execution_count": 348,
   "metadata": {},
   "outputs": [],
   "source": [
    "from misc_functions            import *\n",
    "from db.Database import *\n",
    "# import db.Area as Area\n",
    "from db.Area import *\n",
    "from db.AreaExit import *\n",
    "\n",
    "from db.MudMap import MudMap\n",
    "\n",
    "import networkx, json, os, re"
   ]
  },
  {
   "cell_type": "code",
   "execution_count": 349,
   "metadata": {},
   "outputs": [],
   "source": [
    "area_select_statement = 'v_areas_for_graph where name like \"%Something disin%\"'\n",
    "areas = Area.raw('select * from ' + area_select_statement)"
   ]
  },
  {
   "cell_type": "code",
   "execution_count": 350,
   "metadata": {},
   "outputs": [
    {
     "name": "stdout",
     "output_type": "stream",
     "text": [
      "3049 Something disintegrates . . . . Reverberent Cavern  Each step, breath and movement echoes with purity back to you. This is another large cavern, similar to the chiming cavern below, but with glassy smooth walls. The effect is to cause every sound to become magnified tenfold. In the middle of this cave though is a very disturbing sight. Many, many bones are piled here, cattle, sheep, humans, gnolls. In fact it appears anything that can be eaten. Looking around you see how the cavern is in fact a nest, an immense one, but a nest nonetheless.\n"
     ]
    }
   ],
   "source": [
    "area = areas[0]\n",
    "print(area.id, area.name, area.description)"
   ]
  },
  {
   "cell_type": "code",
   "execution_count": 351,
   "metadata": {},
   "outputs": [],
   "source": [
    "def mock_area_string(area):\n",
    "    area_str = area.name + '\\n\\r\\n\\r' + area.description.replace(\"  \",\"\\n\\r\\n\\r\").replace(\". \", \".\\n\") + \"\\n\\rObvious exits: out, west, south.\\n\\rYou see Derp.\\n\\rYou see a war horse, a deaconess.\\n\\rYou see 10 gold coins.\\n\\r\"\n",
    "    return f\"{area_str}\""
   ]
  },
  {
   "cell_type": "code",
   "execution_count": 352,
   "metadata": {},
   "outputs": [
    {
     "name": "stdout",
     "output_type": "stream",
     "text": [
      "Something disintegrates . . . .\n",
      "\n",
      "Reverberent Cavern\n",
      "\n",
      "Each step, breath and movement echoes with purity back to you.\n",
      "This is another large cavern, similar to the chiming cavern below, but with glassy smooth walls.\n",
      "The effect is to cause every sound to become magnified tenfold.\n",
      "In the middle of this cave though is a very disturbing sight.\n",
      "Many, many bones are piled here, cattle, sheep, humans, gnolls.\n",
      "In fact it appears anything that can be eaten.\n",
      "Looking around you see how the cavern is in fact a nest, an immense one, but a nest nonetheless.\n",
      "Obvious exits: out, west, south.\n",
      "You see Derp.\n",
      "You see a war horse, a deaconess.\n",
      "You see 10 gold coins.\n",
      "\n"
     ]
    }
   ],
   "source": [
    "print(mock_area_string(area))"
   ]
  },
  {
   "cell_type": "code",
   "execution_count": 353,
   "metadata": {},
   "outputs": [],
   "source": [
    "area_match_regex = \"(?si)(.+?)(Obvious exits: .+?\\.)\\n?\\r?(You see .+?\\.)?\\n?\\r?(You see .+?\\.)?\\n?\\r?(You see .+?\\.)?\\n?\\r?(You see .+?\\.)?\\n?\\r?(You see .+?\\.)?\\n?\\r?\""
   ]
  },
  {
   "cell_type": "code",
   "execution_count": 354,
   "metadata": {},
   "outputs": [
    {
     "name": "stdout",
     "output_type": "stream",
     "text": [
      "<re.Match object; span=(0, 660), match='Something disintegrates . . . .\\n\\r\\n\\rReverberen>\n",
      "Something disintegrates . . . .\n",
      "\n",
      "Reverberent Cavern\n",
      "\n",
      "Each step, breath and movement echoes with purity back to you.\n",
      "This is another large cavern, similar to the chiming cavern below, but with glassy smooth walls.\n",
      "The effect is to cause every sound to become magnified tenfold.\n",
      "In the middle of this cave though is a very disturbing sight.\n",
      "Many, many bones are piled here, cattle, sheep, humans, gnolls.\n",
      "In fact it appears anything that can be eaten.\n",
      "Looking around you see how the cavern is in fact a nest, an immense one, but a nest nonetheless.\n",
      "\n"
     ]
    }
   ],
   "source": [
    "M_obj = re.search(area_match_regex, mock_area_string(area), re.DOTALL)\n",
    "print(M_obj)\n",
    "\n",
    "print(M_obj.group(1))"
   ]
  },
  {
   "cell_type": "code",
   "execution_count": 355,
   "metadata": {},
   "outputs": [
    {
     "data": {
      "text/plain": [
       "'In fact it appears anything that can be eaten.'"
      ]
     },
     "execution_count": 355,
     "metadata": {},
     "output_type": "execute_result"
    }
   ],
   "source": [
    "groups = M_obj.groups()\n",
    "\n",
    "area_content_raw = groups[0].strip()\n",
    "area_description = re.search(\"(?si)^.*\\n\\r?\\n\\r?(.*)$\", area_content_raw.strip()).groups()[0]\n",
    "\n",
    "area_title_raw = area_content_raw.replace(area_description, \"\").strip()\n",
    "\n",
    "# get the last line of the title\n",
    "area_title = re.search(\"(?si)^(?:.+M] )?(.*)$\", area_title_raw.split(\"\\n\")[-1]).groups()[0]\n",
    "area_title"
   ]
  },
  {
   "cell_type": "code",
   "execution_count": 356,
   "metadata": {},
   "outputs": [],
   "source": [
    "def convert_group_to_string(M_obj):\n",
    "    groups = M_obj.groups()\n",
    "\n",
    "    area_content_raw = groups[0].strip()\n",
    "\n",
    "    area_description = re.search(\"(?si)^.*\\n\\r?(.*)$\", area_content_raw.strip()).groups()[0]\n",
    "    area_title_raw = area_content_raw.replace(area_description, \"\").strip()\n",
    "\n",
    "    # get the last line of the first group to get the area title\n",
    "    area_title = re.search(\"(?si)^(?:.+M] )?(.*)$\", area_title_raw.split(\"\\n\")[-1]).groups()[0]\n",
    "    \n",
    "    area_exits = groups[1]\n",
    "    area_signs = groups[2]\n",
    "    area_characters = groups[3]\n",
    "    area_mobs = groups[4]\n",
    "    area_items = groups[5]\n",
    "\n",
    "    return f\"{area_title}\\n\\r\\n\\r{area_description}\\n\\r{area_exits}\\n\\r{area_signs}\\n\\r{area_characters}\\n\\r{area_mobs}\\n\\r\"\n"
   ]
  },
  {
   "cell_type": "code",
   "execution_count": 357,
   "metadata": {},
   "outputs": [
    {
     "name": "stdout",
     "output_type": "stream",
     "text": [
      "In fact it appears anything that can be eaten.\n",
      "\n",
      "Looking around you see how the cavern is in fact a nest, an immense one, but a nest nonetheless.\n",
      "Obvious exits: out, west, south.\n",
      "You see Derp.\n",
      "You see a war horse, a deaconess.\n",
      "You see 10 gold coins.\n",
      "\n"
     ]
    }
   ],
   "source": [
    "print(convert_group_to_string(M_obj))"
   ]
  },
  {
   "cell_type": "code",
   "execution_count": 358,
   "metadata": {},
   "outputs": [],
   "source": [
    "def convert_area_to_string(area):\n",
    "    area_str = mock_area_string(area)\n",
    "    print(area_str)\n",
    "    M_obj = re.search(area_match_regex, area_str, re.DOTALL)\n",
    "    if M_obj:\n",
    "        print(convert_group_to_string(M_obj))\n",
    "    else:\n",
    "        print(\"No match for area: \", area.name)"
   ]
  },
  {
   "cell_type": "code",
   "execution_count": 359,
   "metadata": {},
   "outputs": [
    {
     "name": "stdout",
     "output_type": "stream",
     "text": [
      "Something disintegrates . . . .\n",
      "\n",
      "Reverberent Cavern\n",
      "\n",
      "Each step, breath and movement echoes with purity back to you.\n",
      "This is another large cavern, similar to the chiming cavern below, but with glassy smooth walls.\n",
      "The effect is to cause every sound to become magnified tenfold.\n",
      "In the middle of this cave though is a very disturbing sight.\n",
      "Many, many bones are piled here, cattle, sheep, humans, gnolls.\n",
      "In fact it appears anything that can be eaten.\n",
      "Looking around you see how the cavern is in fact a nest, an immense one, but a nest nonetheless.\n",
      "Obvious exits: out, west, south.\n",
      "You see Derp.\n",
      "You see a war horse, a deaconess.\n",
      "You see 10 gold coins.\n",
      "\n",
      "In fact it appears anything that can be eaten.\n",
      "\n",
      "Looking around you see how the cavern is in fact a nest, an immense one, but a nest nonetheless.\n",
      "Obvious exits: out, west, south.\n",
      "You see Derp.\n",
      "You see a war horse, a deaconess.\n",
      "You see 10 gold coins.\n",
      "\n"
     ]
    }
   ],
   "source": [
    "# convert_area_to_string(areas[0])\n",
    "# convert_area_to_string(areas[1])\n",
    "# convert_area_to_string(areas[2])\n",
    "# convert_area_to_string(areas[3])\n",
    "convert_area_to_string(areas[0])"
   ]
  }
 ],
 "metadata": {
  "kernelspec": {
   "display_name": "Python 3",
   "language": "python",
   "name": "python3"
  },
  "language_info": {
   "codemirror_mode": {
    "name": "ipython",
    "version": 3
   },
   "file_extension": ".py",
   "mimetype": "text/x-python",
   "name": "python",
   "nbconvert_exporter": "python",
   "pygments_lexer": "ipython3",
   "version": "3.10.5"
  },
  "orig_nbformat": 4
 },
 "nbformat": 4,
 "nbformat_minor": 2
}
