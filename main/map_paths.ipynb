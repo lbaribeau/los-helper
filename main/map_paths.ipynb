{
 "cells": [
  {
   "cell_type": "code",
   "execution_count": 11,
   "metadata": {},
   "outputs": [],
   "source": [
    "from misc_functions            import *\n",
    "from db.Database import *\n",
    "# import db.Area as Area\n",
    "from db.AreaExit import *"
   ]
  },
  {
   "cell_type": "code",
   "execution_count": 12,
   "metadata": {},
   "outputs": [
    {
     "ename": "AttributeError",
     "evalue": "Cannot use uninitialized Proxy.",
     "output_type": "error",
     "traceback": [
      "\u001b[0;31m---------------------------------------------------------------------------\u001b[0m",
      "\u001b[0;31mAttributeError\u001b[0m                            Traceback (most recent call last)",
      "\u001b[1;32m/Users/adam/Projects/los-helper/main/map_paths.ipynb Cell 2\u001b[0m in \u001b[0;36m<cell line: 1>\u001b[0;34m()\u001b[0m\n\u001b[0;32m----> <a href='vscode-notebook-cell:/Users/adam/Projects/los-helper/main/map_paths.ipynb#W1sZmlsZQ%3D%3D?line=0'>1</a>\u001b[0m AreaExit\u001b[39m.\u001b[39;49mraw(\u001b[39m\"\u001b[39;49m\u001b[39mselect * from areaexit where area_from_id = 2\u001b[39;49m\u001b[39m\"\u001b[39;49m)\u001b[39m.\u001b[39;49mexecute()\n",
      "File \u001b[0;32m/Library/Frameworks/Python.framework/Versions/3.10/lib/python3.10/site-packages/peewee.py:1927\u001b[0m, in \u001b[0;36mdatabase_required.<locals>.inner\u001b[0;34m(self, database, *args, **kwargs)\u001b[0m\n\u001b[1;32m   1924\u001b[0m \u001b[39mif\u001b[39;00m \u001b[39mnot\u001b[39;00m database:\n\u001b[1;32m   1925\u001b[0m     \u001b[39mraise\u001b[39;00m InterfaceError(\u001b[39m'\u001b[39m\u001b[39mQuery must be bound to a database in order \u001b[39m\u001b[39m'\u001b[39m\n\u001b[1;32m   1926\u001b[0m                          \u001b[39m'\u001b[39m\u001b[39mto call \u001b[39m\u001b[39m\"\u001b[39m\u001b[39m%s\u001b[39;00m\u001b[39m\"\u001b[39m\u001b[39m.\u001b[39m\u001b[39m'\u001b[39m \u001b[39m%\u001b[39m method\u001b[39m.\u001b[39m\u001b[39m__name__\u001b[39m)\n\u001b[0;32m-> 1927\u001b[0m \u001b[39mreturn\u001b[39;00m method(\u001b[39mself\u001b[39;49m, database, \u001b[39m*\u001b[39;49margs, \u001b[39m*\u001b[39;49m\u001b[39m*\u001b[39;49mkwargs)\n",
      "File \u001b[0;32m/Library/Frameworks/Python.framework/Versions/3.10/lib/python3.10/site-packages/peewee.py:1998\u001b[0m, in \u001b[0;36mBaseQuery.execute\u001b[0;34m(self, database)\u001b[0m\n\u001b[1;32m   1996\u001b[0m \u001b[39m@database_required\u001b[39m\n\u001b[1;32m   1997\u001b[0m \u001b[39mdef\u001b[39;00m \u001b[39mexecute\u001b[39m(\u001b[39mself\u001b[39m, database):\n\u001b[0;32m-> 1998\u001b[0m     \u001b[39mreturn\u001b[39;00m \u001b[39mself\u001b[39;49m\u001b[39m.\u001b[39;49m_execute(database)\n",
      "File \u001b[0;32m/Library/Frameworks/Python.framework/Versions/3.10/lib/python3.10/site-packages/peewee.py:2050\u001b[0m, in \u001b[0;36mRawQuery._execute\u001b[0;34m(self, database)\u001b[0m\n\u001b[1;32m   2048\u001b[0m \u001b[39mdef\u001b[39;00m \u001b[39m_execute\u001b[39m(\u001b[39mself\u001b[39m, database):\n\u001b[1;32m   2049\u001b[0m     \u001b[39mif\u001b[39;00m \u001b[39mself\u001b[39m\u001b[39m.\u001b[39m_cursor_wrapper \u001b[39mis\u001b[39;00m \u001b[39mNone\u001b[39;00m:\n\u001b[0;32m-> 2050\u001b[0m         cursor \u001b[39m=\u001b[39m database\u001b[39m.\u001b[39;49mexecute(\u001b[39mself\u001b[39m)\n\u001b[1;32m   2051\u001b[0m         \u001b[39mself\u001b[39m\u001b[39m.\u001b[39m_cursor_wrapper \u001b[39m=\u001b[39m \u001b[39mself\u001b[39m\u001b[39m.\u001b[39m_get_cursor_wrapper(cursor)\n\u001b[1;32m   2052\u001b[0m     \u001b[39mreturn\u001b[39;00m \u001b[39mself\u001b[39m\u001b[39m.\u001b[39m_cursor_wrapper\n",
      "File \u001b[0;32m/Library/Frameworks/Python.framework/Versions/3.10/lib/python3.10/site-packages/peewee.py:448\u001b[0m, in \u001b[0;36mProxy.__getattr__\u001b[0;34m(self, attr)\u001b[0m\n\u001b[1;32m    446\u001b[0m \u001b[39mdef\u001b[39;00m \u001b[39m__getattr__\u001b[39m(\u001b[39mself\u001b[39m, attr):\n\u001b[1;32m    447\u001b[0m     \u001b[39mif\u001b[39;00m \u001b[39mself\u001b[39m\u001b[39m.\u001b[39mobj \u001b[39mis\u001b[39;00m \u001b[39mNone\u001b[39;00m:\n\u001b[0;32m--> 448\u001b[0m         \u001b[39mraise\u001b[39;00m \u001b[39mAttributeError\u001b[39;00m(\u001b[39m'\u001b[39m\u001b[39mCannot use uninitialized Proxy.\u001b[39m\u001b[39m'\u001b[39m)\n\u001b[1;32m    449\u001b[0m     \u001b[39mreturn\u001b[39;00m \u001b[39mgetattr\u001b[39m(\u001b[39mself\u001b[39m\u001b[39m.\u001b[39mobj, attr)\n",
      "\u001b[0;31mAttributeError\u001b[0m: Cannot use uninitialized Proxy."
     ]
    }
   ],
   "source": [
    "AreaExit.raw(\"select * from areaexit where area_from_id = 2\").execute()"
   ]
  }
 ],
 "metadata": {
  "kernelspec": {
   "display_name": "venv",
   "language": "python",
   "name": "python3"
  },
  "language_info": {
   "codemirror_mode": {
    "name": "ipython",
    "version": 3
   },
   "file_extension": ".py",
   "mimetype": "text/x-python",
   "name": "python",
   "nbconvert_exporter": "python",
   "pygments_lexer": "ipython3",
   "version": "3.10.5"
  },
  "orig_nbformat": 4
 },
 "nbformat": 4,
 "nbformat_minor": 2
}
