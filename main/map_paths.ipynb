{
 "cells": [
  {
   "cell_type": "code",
   "execution_count": 64,
   "metadata": {},
   "outputs": [],
   "source": [
    "from misc_functions            import *\n",
    "from db.Database import *\n",
    "# import db.Area as Area\n",
    "from db.AreaExit import *\n",
    "import json"
   ]
  },
  {
   "cell_type": "code",
   "execution_count": 65,
   "metadata": {},
   "outputs": [],
   "source": [
    "def get_exits_from_area_id(area_id):\n",
    "    exits = []\n",
    "    try:\n",
    "        exits = AreaExit.select().where((AreaExit.area_from_id == area_id))\n",
    "    except AreaExit.DoesNotExist:\n",
    "        exits = []\n",
    "    return exits\n",
    "\n",
    "area_id = 2\n",
    "initial_exits = get_exits_from_area_id(area_id)"
   ]
  },
  {
   "cell_type": "code",
   "execution_count": 66,
   "metadata": {},
   "outputs": [],
   "source": [
    "def get_exit_json(exits):\n",
    "    # we wanna make some json edges and nodes/areas for cytoscape from our los map data\n",
    "    # let's start simple and look out 2x steps from teh start area (Chapel areaid 2)\n",
    "    edges = []\n",
    "\n",
    "    for exit in initial_exits:\n",
    "        # we should append json of the edge id, source (area_from_id), target (area_to_id)\n",
    "        # skip if the area_to_id is null\n",
    "        if exit.area_to_id is not None:\n",
    "            edges.append({\"id\": exit.id, \"source\": exit.area_from_id, \"source_name\": exit.area_from.name, \"target\": exit.area_to_id, \"target_name\": exit.area_to.name})\n",
    "\n",
    "    return edges"
   ]
  },
  {
   "cell_type": "code",
   "execution_count": 67,
   "metadata": {},
   "outputs": [],
   "source": [
    "def get_areas_json(exits):\n",
    "    areas = {}\n",
    "    for exit in initial_exits:\n",
    "        # we should append json of the edge id, source (area_from_id), target (area_to_id)\n",
    "        # skip if the area_to_id is null\n",
    "        areas[exit.area_from_id] = {\"id\": exit.area_from_id, \"name\": exit.area_from.name}\n",
    "        \n",
    "        if exit.area_to_id is not None:\n",
    "            areas[exit.area_to_id] = {\"id\": exit.area_to_id, \"name\": exit.area_to.name}\n",
    "\n",
    "    return areas"
   ]
  },
  {
   "cell_type": "code",
   "execution_count": 68,
   "metadata": {},
   "outputs": [
    {
     "name": "stdout",
     "output_type": "stream",
     "text": [
      "[{\"data\": {\"id\": 2, \"label\": \"2_The Chapel of Healing\"}}, {\"data\": {\"id\": 3, \"label\": \"3_Holly Lane\"}}, {\"data\": {\"id\": 6, \"label\": \"6_Prayer Chamber\"}}, {\"data\": {\"id\": \"2_The Chapel of Healing_Holly Lane\", \"source\": 2, \"target\": 3}}, {\"data\": {\"id\": \"4_The Chapel of Healing_Prayer Chamber\", \"source\": 2, \"target\": 6}}]\n"
     ]
    }
   ],
   "source": [
    "elements = []\n",
    "areas_mapped = [area_id]\n",
    "\n",
    "def get_new_json(exits):\n",
    "    elements = []\n",
    "    edges = get_exit_json(exits)\n",
    "    areas = get_areas_json(exits)\n",
    "\n",
    "    # for cytoscape, we need to have a list of nodes and a list of edges as json elements with data attributes\n",
    "    for area in areas:\n",
    "        nice_name = f'{areas[area][\"id\"]}_{areas[area][\"name\"]}' \n",
    "        elements.append({\"data\": {\"id\": areas[area][\"id\"], \"label\": nice_name}})\n",
    "\n",
    "    for edge in edges:\n",
    "        nice_name = f'{edge[\"id\"]}_{edge[\"source_name\"]}_{edge[\"target_name\"]}'\n",
    "        elements.append({\"data\": {\"id\": nice_name, \"source\": edge[\"source\"], \"target\": edge[\"target\"]}})\n",
    "    return elements\n",
    "\n",
    "elements = get_new_json(initial_exits)\n",
    "for exit in initial_exits:\n",
    "    if exit.area_to_id is not None and exit.area_to_id not in areas_mapped:\n",
    "        area_id = exit.area_to_id\n",
    "        exits = get_exits_from_area_id(area_id)\n",
    "        elements += get_new_json(exits)\n",
    "        areas_mapped.append(area_id)\n",
    "\n",
    "    \n",
    "\n",
    "print(json.dumps(elements))"
   ]
  }
 ],
 "metadata": {
  "kernelspec": {
   "display_name": "venv",
   "language": "python",
   "name": "python3"
  },
  "language_info": {
   "codemirror_mode": {
    "name": "ipython",
    "version": 3
   },
   "file_extension": ".py",
   "mimetype": "text/x-python",
   "name": "python",
   "nbconvert_exporter": "python",
   "pygments_lexer": "ipython3",
   "version": "3.10.5"
  },
  "orig_nbformat": 4
 },
 "nbformat": 4,
 "nbformat_minor": 2
}
